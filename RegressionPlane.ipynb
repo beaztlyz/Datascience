{
 "cells": [
  {
   "cell_type": "code",
   "execution_count": null,
   "id": "0a3dfaa1",
   "metadata": {},
   "outputs": [],
   "source": [
    "import pandas as pd"
   ]
  },
  {
   "cell_type": "code",
   "execution_count": null,
   "id": "7961fe93",
   "metadata": {},
   "outputs": [],
   "source": [
    "df = pd.read_csv(\"data.csv\")"
   ]
  },
  {
   "cell_type": "code",
   "execution_count": 2,
   "id": "db1eaea6",
   "metadata": {},
   "outputs": [
    {
     "ename": "SyntaxError",
     "evalue": "cannot assign to operator (1563198295.py, line 3)",
     "output_type": "error",
     "traceback": [
      "\u001b[1;36m  File \u001b[1;32m\"C:\\Users\\achen12\\AppData\\Local\\Temp\\ipykernel_9512\\1563198295.py\"\u001b[1;36m, line \u001b[1;32m3\u001b[0m\n\u001b[1;33m    ax + bx +cx + zx = 0  #implement a strategy that subtracts zx\u001b[0m\n\u001b[1;37m    ^\u001b[0m\n\u001b[1;31mSyntaxError\u001b[0m\u001b[1;31m:\u001b[0m cannot assign to operator\n"
     ]
    }
   ],
   "source": [
    "def linearPlane(x,y,z,a,b,c,zxis,xaxis):\n",
    "    z = 1 # z is a constant \n",
    "    ax + bx +cx + zx = 0  #implement a strategy that subtracts zx\n",
    "    zx - 1 #in real life zx is going to be positive so we will have to apply onthat\n",
    "    a = [x1,x2, xconst][y1,y2, yconst] #copy this over so we will be able to times \n",
    "    transpose = (x1,x2, xconst) * (y1,y2, yconst) #transpose function \n",
    "    filledafunc = zxis * transpose # time to do transpose multiplication\n",
    "    filledxfunc = transpose * transpose\n",
    "    GraphFromPlane = a + b + c + d / **((sqrt)a + (sqrt)b + (sqrt)c  )\n",
    "    \n",
    "linearPlane()"
   ]
  },
  {
   "cell_type": "code",
   "execution_count": null,
   "id": "2a58bb05",
   "metadata": {},
   "outputs": [],
   "source": []
  }
 ],
 "metadata": {
  "kernelspec": {
   "display_name": "Python 3 (ipykernel)",
   "language": "python",
   "name": "python3"
  },
  "language_info": {
   "codemirror_mode": {
    "name": "ipython",
    "version": 3
   },
   "file_extension": ".py",
   "mimetype": "text/x-python",
   "name": "python",
   "nbconvert_exporter": "python",
   "pygments_lexer": "ipython3",
   "version": "3.9.13"
  }
 },
 "nbformat": 4,
 "nbformat_minor": 5
}
